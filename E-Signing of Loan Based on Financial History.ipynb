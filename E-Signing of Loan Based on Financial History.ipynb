{
 "cells": [
  {
   "cell_type": "markdown",
   "metadata": {},
   "source": [
    "<center><h1>E-Signing of Loan Based on Financial History</h1></center>"
   ]
  },
  {
   "cell_type": "markdown",
   "metadata": {},
   "source": [
    "<div>\n",
    "<img src=\"logo.jpg\" width=\"900\"/>\n",
    "</div>"
   ]
  },
  {
   "cell_type": "markdown",
   "metadata": {},
   "source": [
    "<h4>ESignature:</h4>\n",
    "<br>\n",
    "<p style=\"text-indent:5em\">Electronic signatures aren’t exactly a novelty. They have been around since the American Civil War, during which contracts were signed through Morse. In a modern setting, an e-Sign refers to a unique, digitised, encrypted personal identifier. This is, in essence, different from the ‘wet’ signatures created by hand. The e-Sign is meant to complete transactions, loops, and agreements electronically.</p>\n",
    "\n",
    "<p style=\"text-indent:5em\">In our beloved country, Indonesia, electronic signatures are legally recognized and are provided for in the Law of the Republic of Indonesia No. 11 of 2008 on Electronic Information and Transactions as amended by Law of the Republic of Indonesia No. 19 of 2016 (“Law No. 11”), the Government Regulation of the Republic of Indonesia No. 71 of 2019 on the Operation of Electronic Systems and Transactions, and the Government Regulation of the Republic of Indonesia No. 80 of 2019 on Trade Through Electronic Systems. Early adopters in the financial sector have started using e-Sign to get customers to sign loan and card applications, and loan agreements.</p>"
   ]
  },
  {
   "cell_type": "markdown",
   "metadata": {},
   "source": [
    "### Importing the Library"
   ]
  },
  {
   "cell_type": "code",
   "execution_count": 1,
   "metadata": {},
   "outputs": [],
   "source": [
    "#importing library for reading, writing and perform basic operations\n",
    "import pandas as pd\n",
    "import numpy as np\n",
    "\n",
    "#Importing library for Visualization\n",
    "import matplotlib.pyplot as plt\n",
    "import seaborn as sns\n",
    "%matplotlib inline\n",
    "\n",
    "#Importing the library for evaluating the model\n",
    "from sklearn.metrics import accuracy_score\n",
    "\n",
    "import warnings\n",
    "warnings.filterwarnings(\"ignore\")"
   ]
  },
  {
   "cell_type": "markdown",
   "metadata": {},
   "source": [
    "### Reading the Data"
   ]
  },
  {
   "cell_type": "code",
   "execution_count": 2,
   "metadata": {},
   "outputs": [
    {
     "data": {
      "text/html": [
       "<div>\n",
       "<style scoped>\n",
       "    .dataframe tbody tr th:only-of-type {\n",
       "        vertical-align: middle;\n",
       "    }\n",
       "\n",
       "    .dataframe tbody tr th {\n",
       "        vertical-align: top;\n",
       "    }\n",
       "\n",
       "    .dataframe thead th {\n",
       "        text-align: right;\n",
       "    }\n",
       "</style>\n",
       "<table border=\"1\" class=\"dataframe\">\n",
       "  <thead>\n",
       "    <tr style=\"text-align: right;\">\n",
       "      <th></th>\n",
       "      <th>entry_id</th>\n",
       "      <th>age</th>\n",
       "      <th>pay_schedule</th>\n",
       "      <th>home_owner</th>\n",
       "      <th>income</th>\n",
       "      <th>months_employed</th>\n",
       "      <th>years_employed</th>\n",
       "      <th>current_address_year</th>\n",
       "      <th>personal_account_m</th>\n",
       "      <th>personal_account_y</th>\n",
       "      <th>...</th>\n",
       "      <th>amount_requested</th>\n",
       "      <th>risk_score</th>\n",
       "      <th>risk_score_2</th>\n",
       "      <th>risk_score_3</th>\n",
       "      <th>risk_score_4</th>\n",
       "      <th>risk_score_5</th>\n",
       "      <th>ext_quality_score</th>\n",
       "      <th>ext_quality_score_2</th>\n",
       "      <th>inquiries_last_month</th>\n",
       "      <th>e_signed</th>\n",
       "    </tr>\n",
       "  </thead>\n",
       "  <tbody>\n",
       "    <tr>\n",
       "      <th>0</th>\n",
       "      <td>7629673</td>\n",
       "      <td>40</td>\n",
       "      <td>bi-weekly</td>\n",
       "      <td>1</td>\n",
       "      <td>3135</td>\n",
       "      <td>0</td>\n",
       "      <td>3</td>\n",
       "      <td>3</td>\n",
       "      <td>6</td>\n",
       "      <td>2</td>\n",
       "      <td>...</td>\n",
       "      <td>550</td>\n",
       "      <td>36200</td>\n",
       "      <td>0.737398</td>\n",
       "      <td>0.903517</td>\n",
       "      <td>0.487712</td>\n",
       "      <td>0.515977</td>\n",
       "      <td>0.580918</td>\n",
       "      <td>0.380918</td>\n",
       "      <td>10</td>\n",
       "      <td>1</td>\n",
       "    </tr>\n",
       "    <tr>\n",
       "      <th>1</th>\n",
       "      <td>3560428</td>\n",
       "      <td>61</td>\n",
       "      <td>weekly</td>\n",
       "      <td>0</td>\n",
       "      <td>3180</td>\n",
       "      <td>0</td>\n",
       "      <td>6</td>\n",
       "      <td>3</td>\n",
       "      <td>2</td>\n",
       "      <td>7</td>\n",
       "      <td>...</td>\n",
       "      <td>600</td>\n",
       "      <td>30150</td>\n",
       "      <td>0.738510</td>\n",
       "      <td>0.881027</td>\n",
       "      <td>0.713423</td>\n",
       "      <td>0.826402</td>\n",
       "      <td>0.730720</td>\n",
       "      <td>0.630720</td>\n",
       "      <td>9</td>\n",
       "      <td>0</td>\n",
       "    </tr>\n",
       "    <tr>\n",
       "      <th>2</th>\n",
       "      <td>6934997</td>\n",
       "      <td>23</td>\n",
       "      <td>weekly</td>\n",
       "      <td>0</td>\n",
       "      <td>1540</td>\n",
       "      <td>6</td>\n",
       "      <td>0</td>\n",
       "      <td>0</td>\n",
       "      <td>7</td>\n",
       "      <td>1</td>\n",
       "      <td>...</td>\n",
       "      <td>450</td>\n",
       "      <td>34550</td>\n",
       "      <td>0.642993</td>\n",
       "      <td>0.766554</td>\n",
       "      <td>0.595018</td>\n",
       "      <td>0.762284</td>\n",
       "      <td>0.531712</td>\n",
       "      <td>0.531712</td>\n",
       "      <td>7</td>\n",
       "      <td>0</td>\n",
       "    </tr>\n",
       "    <tr>\n",
       "      <th>3</th>\n",
       "      <td>5682812</td>\n",
       "      <td>40</td>\n",
       "      <td>bi-weekly</td>\n",
       "      <td>0</td>\n",
       "      <td>5230</td>\n",
       "      <td>0</td>\n",
       "      <td>6</td>\n",
       "      <td>1</td>\n",
       "      <td>2</td>\n",
       "      <td>7</td>\n",
       "      <td>...</td>\n",
       "      <td>700</td>\n",
       "      <td>42150</td>\n",
       "      <td>0.665224</td>\n",
       "      <td>0.960832</td>\n",
       "      <td>0.767828</td>\n",
       "      <td>0.778831</td>\n",
       "      <td>0.792552</td>\n",
       "      <td>0.592552</td>\n",
       "      <td>8</td>\n",
       "      <td>1</td>\n",
       "    </tr>\n",
       "    <tr>\n",
       "      <th>4</th>\n",
       "      <td>5335819</td>\n",
       "      <td>33</td>\n",
       "      <td>semi-monthly</td>\n",
       "      <td>0</td>\n",
       "      <td>3590</td>\n",
       "      <td>0</td>\n",
       "      <td>5</td>\n",
       "      <td>2</td>\n",
       "      <td>2</td>\n",
       "      <td>8</td>\n",
       "      <td>...</td>\n",
       "      <td>1100</td>\n",
       "      <td>53850</td>\n",
       "      <td>0.617361</td>\n",
       "      <td>0.857560</td>\n",
       "      <td>0.613487</td>\n",
       "      <td>0.665523</td>\n",
       "      <td>0.744634</td>\n",
       "      <td>0.744634</td>\n",
       "      <td>12</td>\n",
       "      <td>0</td>\n",
       "    </tr>\n",
       "  </tbody>\n",
       "</table>\n",
       "<p>5 rows × 21 columns</p>\n",
       "</div>"
      ],
      "text/plain": [
       "   entry_id  age  pay_schedule  home_owner  income  months_employed  \\\n",
       "0   7629673   40     bi-weekly           1    3135                0   \n",
       "1   3560428   61        weekly           0    3180                0   \n",
       "2   6934997   23        weekly           0    1540                6   \n",
       "3   5682812   40     bi-weekly           0    5230                0   \n",
       "4   5335819   33  semi-monthly           0    3590                0   \n",
       "\n",
       "   years_employed  current_address_year  personal_account_m  \\\n",
       "0               3                     3                   6   \n",
       "1               6                     3                   2   \n",
       "2               0                     0                   7   \n",
       "3               6                     1                   2   \n",
       "4               5                     2                   2   \n",
       "\n",
       "   personal_account_y  ...  amount_requested  risk_score  risk_score_2  \\\n",
       "0                   2  ...               550       36200      0.737398   \n",
       "1                   7  ...               600       30150      0.738510   \n",
       "2                   1  ...               450       34550      0.642993   \n",
       "3                   7  ...               700       42150      0.665224   \n",
       "4                   8  ...              1100       53850      0.617361   \n",
       "\n",
       "   risk_score_3  risk_score_4  risk_score_5  ext_quality_score  \\\n",
       "0      0.903517      0.487712      0.515977           0.580918   \n",
       "1      0.881027      0.713423      0.826402           0.730720   \n",
       "2      0.766554      0.595018      0.762284           0.531712   \n",
       "3      0.960832      0.767828      0.778831           0.792552   \n",
       "4      0.857560      0.613487      0.665523           0.744634   \n",
       "\n",
       "   ext_quality_score_2  inquiries_last_month  e_signed  \n",
       "0             0.380918                    10         1  \n",
       "1             0.630720                     9         0  \n",
       "2             0.531712                     7         0  \n",
       "3             0.592552                     8         1  \n",
       "4             0.744634                    12         0  \n",
       "\n",
       "[5 rows x 21 columns]"
      ]
     },
     "execution_count": 2,
     "metadata": {},
     "output_type": "execute_result"
    }
   ],
   "source": [
    "df=pd.read_csv(\"financial_data.csv\")\n",
    "df.head()"
   ]
  },
  {
   "cell_type": "markdown",
   "metadata": {},
   "source": [
    "### Exploring the Data"
   ]
  },
  {
   "cell_type": "code",
   "execution_count": 3,
   "metadata": {},
   "outputs": [
    {
     "name": "stdout",
     "output_type": "stream",
     "text": [
      "9639\n",
      "8269\n"
     ]
    }
   ],
   "source": [
    "#Finding the count of each class of dependent variable\n",
    "print(sum(df[\"e_signed\"]==1))\n",
    "print(sum(df[\"e_signed\"]==0))"
   ]
  },
  {
   "cell_type": "code",
   "execution_count": 4,
   "metadata": {},
   "outputs": [
    {
     "data": {
      "text/html": [
       "<div>\n",
       "<style scoped>\n",
       "    .dataframe tbody tr th:only-of-type {\n",
       "        vertical-align: middle;\n",
       "    }\n",
       "\n",
       "    .dataframe tbody tr th {\n",
       "        vertical-align: top;\n",
       "    }\n",
       "\n",
       "    .dataframe thead th {\n",
       "        text-align: right;\n",
       "    }\n",
       "</style>\n",
       "<table border=\"1\" class=\"dataframe\">\n",
       "  <thead>\n",
       "    <tr style=\"text-align: right;\">\n",
       "      <th></th>\n",
       "      <th>percent_missing</th>\n",
       "    </tr>\n",
       "  </thead>\n",
       "  <tbody>\n",
       "    <tr>\n",
       "      <th>entry_id</th>\n",
       "      <td>0.0</td>\n",
       "    </tr>\n",
       "    <tr>\n",
       "      <th>age</th>\n",
       "      <td>0.0</td>\n",
       "    </tr>\n",
       "    <tr>\n",
       "      <th>pay_schedule</th>\n",
       "      <td>0.0</td>\n",
       "    </tr>\n",
       "    <tr>\n",
       "      <th>home_owner</th>\n",
       "      <td>0.0</td>\n",
       "    </tr>\n",
       "    <tr>\n",
       "      <th>income</th>\n",
       "      <td>0.0</td>\n",
       "    </tr>\n",
       "    <tr>\n",
       "      <th>months_employed</th>\n",
       "      <td>0.0</td>\n",
       "    </tr>\n",
       "    <tr>\n",
       "      <th>years_employed</th>\n",
       "      <td>0.0</td>\n",
       "    </tr>\n",
       "    <tr>\n",
       "      <th>current_address_year</th>\n",
       "      <td>0.0</td>\n",
       "    </tr>\n",
       "    <tr>\n",
       "      <th>personal_account_m</th>\n",
       "      <td>0.0</td>\n",
       "    </tr>\n",
       "    <tr>\n",
       "      <th>personal_account_y</th>\n",
       "      <td>0.0</td>\n",
       "    </tr>\n",
       "    <tr>\n",
       "      <th>has_debt</th>\n",
       "      <td>0.0</td>\n",
       "    </tr>\n",
       "    <tr>\n",
       "      <th>amount_requested</th>\n",
       "      <td>0.0</td>\n",
       "    </tr>\n",
       "    <tr>\n",
       "      <th>risk_score</th>\n",
       "      <td>0.0</td>\n",
       "    </tr>\n",
       "    <tr>\n",
       "      <th>risk_score_2</th>\n",
       "      <td>0.0</td>\n",
       "    </tr>\n",
       "    <tr>\n",
       "      <th>risk_score_3</th>\n",
       "      <td>0.0</td>\n",
       "    </tr>\n",
       "    <tr>\n",
       "      <th>risk_score_4</th>\n",
       "      <td>0.0</td>\n",
       "    </tr>\n",
       "    <tr>\n",
       "      <th>risk_score_5</th>\n",
       "      <td>0.0</td>\n",
       "    </tr>\n",
       "    <tr>\n",
       "      <th>ext_quality_score</th>\n",
       "      <td>0.0</td>\n",
       "    </tr>\n",
       "    <tr>\n",
       "      <th>ext_quality_score_2</th>\n",
       "      <td>0.0</td>\n",
       "    </tr>\n",
       "    <tr>\n",
       "      <th>inquiries_last_month</th>\n",
       "      <td>0.0</td>\n",
       "    </tr>\n",
       "    <tr>\n",
       "      <th>e_signed</th>\n",
       "      <td>0.0</td>\n",
       "    </tr>\n",
       "  </tbody>\n",
       "</table>\n",
       "</div>"
      ],
      "text/plain": [
       "                      percent_missing\n",
       "entry_id                          0.0\n",
       "age                               0.0\n",
       "pay_schedule                      0.0\n",
       "home_owner                        0.0\n",
       "income                            0.0\n",
       "months_employed                   0.0\n",
       "years_employed                    0.0\n",
       "current_address_year              0.0\n",
       "personal_account_m                0.0\n",
       "personal_account_y                0.0\n",
       "has_debt                          0.0\n",
       "amount_requested                  0.0\n",
       "risk_score                        0.0\n",
       "risk_score_2                      0.0\n",
       "risk_score_3                      0.0\n",
       "risk_score_4                      0.0\n",
       "risk_score_5                      0.0\n",
       "ext_quality_score                 0.0\n",
       "ext_quality_score_2               0.0\n",
       "inquiries_last_month              0.0\n",
       "e_signed                          0.0"
      ]
     },
     "execution_count": 4,
     "metadata": {},
     "output_type": "execute_result"
    }
   ],
   "source": [
    "#Checking for percentage of missing data in each column\n",
    "percent_missing = df.isnull().sum() * 100 / len(df)                \n",
    "missing_value_df = pd.DataFrame({'percent_missing': percent_missing})          \n",
    "\n",
    "missing_value_df"
   ]
  },
  {
   "cell_type": "markdown",
   "metadata": {},
   "source": [
    "<p style=\"text-indent:5em\">We see that the data is not highly imbalanced since the ratio between the count of two classes of dependent variable is not so high."
   ]
  },
  {
   "cell_type": "code",
   "execution_count": 5,
   "metadata": {},
   "outputs": [
    {
     "data": {
      "image/png": "[encoded data removed]",
      "text/plain": [
       "<Figure size 1080x864 with 18 Axes>"
      ]
     },
     "metadata": {
      "needs_background": "dark"
     },
     "output_type": "display_data"
    }
   ],
   "source": [
    "#Dropping the unnecessary columns\n",
    "dataset2 = df.drop(columns = ['entry_id', 'pay_schedule', 'e_signed'])\n",
    "\n",
    "fig = plt.figure(figsize=(15, 12))\n",
    "\n",
    "plt.suptitle('Histograms of Numerical Columns', fontsize=20)\n",
    "for i in range(dataset2.shape[1]):\n",
    "    plt.subplot(6, 3, i + 1)\n",
    "    f = plt.gca()\n",
    "    f.set_title(dataset2.columns.values[i])\n",
    "\n",
    "    vals = np.size(dataset2.iloc[:, i].unique())\n",
    "    if vals >= 100:\n",
    "        vals = 100\n",
    "\n",
    "    plt.hist(dataset2.iloc[:, i], bins=vals, color='#3F5D7D')\n",
    "\n",
    "plt.tight_layout(rect=[0, 0.03, 1, 0.95])"
   ]
  },
  {
   "cell_type": "code",
   "execution_count": 6,
   "metadata": {},
   "outputs": [
    {
     "data": {
      "text/plain": [
       "<AxesSubplot:title={'center':'correlation wigh E signed'}>"
      ]
     },
     "execution_count": 6,
     "metadata": {},
     "output_type": "execute_result"
    },
    {
     "data": {
      "image/png": "[encoded data removed]",
      "text/plain": [
       "<Figure size 1440x720 with 1 Axes>"
      ]
     },
     "metadata": {
      "needs_background": "dark"
     },
     "output_type": "display_data"
    }
   ],
   "source": [
    "#Correlation of independent variable with dependent variable\n",
    "\n",
    "dataset2.corrwith(df.e_signed).plot.bar(figsize=(20,10),title=\"correlation wigh E signed\",\n",
    "                                             fontsize=20,rot=45,grid= True,color=['pink','green',\n",
    "                                                                                  'blue','cyan','magenta'])"
   ]
  },
  {
   "cell_type": "code",
   "execution_count": 7,
   "metadata": {},
   "outputs": [],
   "source": [
    "#Initiatizig into new variable and creating the dummy variable for categorical data\n",
    "data=df\n",
    "dummy=pd.get_dummies(data[\"pay_schedule\"])\n"
   ]
  },
  {
   "cell_type": "code",
   "execution_count": 8,
   "metadata": {},
   "outputs": [
    {
     "data": {
      "text/html": [
       "<div>\n",
       "<style scoped>\n",
       "    .dataframe tbody tr th:only-of-type {\n",
       "        vertical-align: middle;\n",
       "    }\n",
       "\n",
       "    .dataframe tbody tr th {\n",
       "        vertical-align: top;\n",
       "    }\n",
       "\n",
       "    .dataframe thead th {\n",
       "        text-align: right;\n",
       "    }\n",
       "</style>\n",
       "<table border=\"1\" class=\"dataframe\">\n",
       "  <thead>\n",
       "    <tr style=\"text-align: right;\">\n",
       "      <th></th>\n",
       "      <th>bi-weekly</th>\n",
       "      <th>monthly</th>\n",
       "      <th>semi-monthly</th>\n",
       "      <th>weekly</th>\n",
       "    </tr>\n",
       "  </thead>\n",
       "  <tbody>\n",
       "    <tr>\n",
       "      <th>0</th>\n",
       "      <td>1</td>\n",
       "      <td>0</td>\n",
       "      <td>0</td>\n",
       "      <td>0</td>\n",
       "    </tr>\n",
       "    <tr>\n",
       "      <th>1</th>\n",
       "      <td>0</td>\n",
       "      <td>0</td>\n",
       "      <td>0</td>\n",
       "      <td>1</td>\n",
       "    </tr>\n",
       "    <tr>\n",
       "      <th>2</th>\n",
       "      <td>0</td>\n",
       "      <td>0</td>\n",
       "      <td>0</td>\n",
       "      <td>1</td>\n",
       "    </tr>\n",
       "    <tr>\n",
       "      <th>3</th>\n",
       "      <td>1</td>\n",
       "      <td>0</td>\n",
       "      <td>0</td>\n",
       "      <td>0</td>\n",
       "    </tr>\n",
       "    <tr>\n",
       "      <th>4</th>\n",
       "      <td>0</td>\n",
       "      <td>0</td>\n",
       "      <td>1</td>\n",
       "      <td>0</td>\n",
       "    </tr>\n",
       "    <tr>\n",
       "      <th>...</th>\n",
       "      <td>...</td>\n",
       "      <td>...</td>\n",
       "      <td>...</td>\n",
       "      <td>...</td>\n",
       "    </tr>\n",
       "    <tr>\n",
       "      <th>17903</th>\n",
       "      <td>0</td>\n",
       "      <td>1</td>\n",
       "      <td>0</td>\n",
       "      <td>0</td>\n",
       "    </tr>\n",
       "    <tr>\n",
       "      <th>17904</th>\n",
       "      <td>1</td>\n",
       "      <td>0</td>\n",
       "      <td>0</td>\n",
       "      <td>0</td>\n",
       "    </tr>\n",
       "    <tr>\n",
       "      <th>17905</th>\n",
       "      <td>0</td>\n",
       "      <td>0</td>\n",
       "      <td>0</td>\n",
       "      <td>1</td>\n",
       "    </tr>\n",
       "    <tr>\n",
       "      <th>17906</th>\n",
       "      <td>1</td>\n",
       "      <td>0</td>\n",
       "      <td>0</td>\n",
       "      <td>0</td>\n",
       "    </tr>\n",
       "    <tr>\n",
       "      <th>17907</th>\n",
       "      <td>0</td>\n",
       "      <td>0</td>\n",
       "      <td>0</td>\n",
       "      <td>1</td>\n",
       "    </tr>\n",
       "  </tbody>\n",
       "</table>\n",
       "<p>17908 rows × 4 columns</p>\n",
       "</div>"
      ],
      "text/plain": [
       "       bi-weekly  monthly  semi-monthly  weekly\n",
       "0              1        0             0       0\n",
       "1              0        0             0       1\n",
       "2              0        0             0       1\n",
       "3              1        0             0       0\n",
       "4              0        0             1       0\n",
       "...          ...      ...           ...     ...\n",
       "17903          0        1             0       0\n",
       "17904          1        0             0       0\n",
       "17905          0        0             0       1\n",
       "17906          1        0             0       0\n",
       "17907          0        0             0       1\n",
       "\n",
       "[17908 rows x 4 columns]"
      ]
     },
     "execution_count": 8,
     "metadata": {},
     "output_type": "execute_result"
    }
   ],
   "source": [
    "dummy"
   ]
  },
  {
   "cell_type": "code",
   "execution_count": 9,
   "metadata": {},
   "outputs": [],
   "source": [
    "dummy=dummy.drop(labels=[\"bi-weekly\"],axis=1)"
   ]
  },
  {
   "cell_type": "code",
   "execution_count": 10,
   "metadata": {},
   "outputs": [],
   "source": [
    "\n",
    "data=data.drop([\"pay_schedule\"],axis=1)"
   ]
  },
  {
   "cell_type": "code",
   "execution_count": 11,
   "metadata": {},
   "outputs": [],
   "source": [
    "\n",
    "data=pd.concat([data,dummy],axis=1)"
   ]
  },
  {
   "cell_type": "code",
   "execution_count": 12,
   "metadata": {},
   "outputs": [
    {
     "data": {
      "text/plain": [
       "(17908, 23)"
      ]
     },
     "execution_count": 12,
     "metadata": {},
     "output_type": "execute_result"
    }
   ],
   "source": [
    "\n",
    "data.shape"
   ]
  },
  {
   "cell_type": "code",
   "execution_count": 13,
   "metadata": {},
   "outputs": [],
   "source": [
    "# Seperating the data into dependent and independent varioable. Response contains the esigned column which needs to be computed\n",
    "#from the dataset\n",
    "response = data[\"e_signed\"]\n",
    "dataset = data.drop(columns = [\"e_signed\", \"entry_id\"])"
   ]
  },
  {
   "cell_type": "code",
   "execution_count": 14,
   "metadata": {},
   "outputs": [],
   "source": [
    "#Transforming the data using StandardScaler\n",
    "from sklearn.preprocessing import StandardScaler\n",
    "sc_X= StandardScaler()"
   ]
  },
  {
   "cell_type": "code",
   "execution_count": 15,
   "metadata": {},
   "outputs": [],
   "source": [
    "# Splitting into Train and Test Set\n",
    "from sklearn.model_selection import train_test_split\n",
    "X_train, X_test, y_train, y_test = train_test_split(dataset,\n",
    "                                                    response,\n",
    "                                                    test_size = 0.2,\n",
    "                                                    random_state = 0)"
   ]
  },
  {
   "cell_type": "code",
   "execution_count": 16,
   "metadata": {},
   "outputs": [],
   "source": [
    "#Fitting and transforming our data\n",
    "X_train=sc_X.fit_transform(X_train)\n",
    "X_test=sc_X.transform(X_test)"
   ]
  },
  {
   "cell_type": "code",
   "execution_count": 17,
   "metadata": {},
   "outputs": [
    {
     "data": {
      "text/plain": [
       "(14326, 21)"
      ]
     },
     "execution_count": 17,
     "metadata": {},
     "output_type": "execute_result"
    }
   ],
   "source": [
    "X_train.shape"
   ]
  },
  {
   "cell_type": "markdown",
   "metadata": {},
   "source": [
    "#### Building ANN Using Keras\n"
   ]
  },
  {
   "cell_type": "markdown",
   "metadata": {},
   "source": []
  },
  {
   "cell_type": "code",
   "execution_count": 18,
   "metadata": {},
   "outputs": [],
   "source": [
    "# Importing the Keras libraries and packages\n",
    "import keras\n",
    "from keras.models import Sequential\n",
    "from keras.layers import Dense\n",
    "\n",
    "\n",
    "classifier = Sequential()"
   ]
  },
  {
   "cell_type": "code",
   "execution_count": 19,
   "metadata": {},
   "outputs": [],
   "source": [
    "#Adding the layers in ANN\n",
    "classifier.add(Dense(units = 10, kernel_initializer = 'uniform', activation = 'relu', input_dim = 21))\n",
    "\n",
    "\n",
    "classifier.add(Dense(units = 10, kernel_initializer = 'uniform', activation = 'relu'))\n",
    "\n",
    "\n",
    "classifier.add(Dense(units = 1, kernel_initializer = 'uniform', activation = 'sigmoid'))\n",
    "\n",
    "\n",
    "classifier.compile(optimizer = 'adam', loss = 'binary_crossentropy', metrics = ['accuracy'])"
   ]
  },
  {
   "cell_type": "code",
   "execution_count": 20,
   "metadata": {},
   "outputs": [
    {
     "name": "stdout",
     "output_type": "stream",
     "text": [
      "Epoch 1/100\n",
      "1433/1433 [==============================] - 3s 2ms/step - loss: 0.6752 - accuracy: 0.5753\n",
      "Epoch 2/100\n",
      "1433/1433 [==============================] - 2s 1ms/step - loss: 0.6654 - accuracy: 0.5913\n",
      "Epoch 3/100\n",
      "1433/1433 [==============================] - 2s 1ms/step - loss: 0.6615 - accuracy: 0.5968\n",
      "Epoch 4/100\n",
      "1433/1433 [==============================] - 2s 1ms/step - loss: 0.6599 - accuracy: 0.5963\n",
      "Epoch 5/100\n",
      "1433/1433 [==============================] - 2s 1ms/step - loss: 0.6577 - accuracy: 0.6033\n",
      "Epoch 6/100\n",
      "1433/1433 [==============================] - 2s 1ms/step - loss: 0.6552 - accuracy: 0.6061\n",
      "Epoch 7/100\n",
      "1433/1433 [==============================] - 2s 1ms/step - loss: 0.6529 - accuracy: 0.6126\n",
      "Epoch 8/100\n",
      "1433/1433 [==============================] - 2s 1ms/step - loss: 0.6497 - accuracy: 0.6173\n",
      "Epoch 9/100\n",
      "1433/1433 [==============================] - 2s 1ms/step - loss: 0.6469 - accuracy: 0.6164\n",
      "Epoch 10/100\n",
      "1433/1433 [==============================] - 2s 1ms/step - loss: 0.6442 - accuracy: 0.6247\n",
      "Epoch 11/100\n",
      "1433/1433 [==============================] - 2s 1ms/step - loss: 0.6420 - accuracy: 0.6222\n",
      "Epoch 12/100\n",
      "1433/1433 [==============================] - 2s 1ms/step - loss: 0.6403 - accuracy: 0.6274\n",
      "Epoch 13/100\n",
      "1433/1433 [==============================] - 2s 1ms/step - loss: 0.6390 - accuracy: 0.6284: 0s\n",
      "Epoch 14/100\n",
      "1433/1433 [==============================] - 2s 1ms/step - loss: 0.6386 - accuracy: 0.6305\n",
      "Epoch 15/100\n",
      "1433/1433 [==============================] - 2s 1ms/step - loss: 0.6371 - accuracy: 0.6298\n",
      "Epoch 16/100\n",
      "1433/1433 [==============================] - 1s 1ms/step - loss: 0.6362 - accuracy: 0.6317\n",
      "Epoch 17/100\n",
      "1433/1433 [==============================] - 2s 1ms/step - loss: 0.6357 - accuracy: 0.6330: 0s - loss:\n",
      "Epoch 18/100\n",
      "1433/1433 [==============================] - 2s 1ms/step - loss: 0.6352 - accuracy: 0.6296\n",
      "Epoch 19/100\n",
      "1433/1433 [==============================] - 2s 1ms/step - loss: 0.6344 - accuracy: 0.6323\n",
      "Epoch 20/100\n",
      "1433/1433 [==============================] - 2s 1ms/step - loss: 0.6331 - accuracy: 0.6358\n",
      "Epoch 21/100\n",
      "1433/1433 [==============================] - 2s 1ms/step - loss: 0.6329 - accuracy: 0.6342\n",
      "Epoch 22/100\n",
      "1433/1433 [==============================] - 2s 1ms/step - loss: 0.6327 - accuracy: 0.6364\n",
      "Epoch 23/100\n",
      "1433/1433 [==============================] - 2s 1ms/step - loss: 0.6319 - accuracy: 0.6347\n",
      "Epoch 24/100\n",
      "1433/1433 [==============================] - 2s 1ms/step - loss: 0.6320 - accuracy: 0.6349\n",
      "Epoch 25/100\n",
      "1433/1433 [==============================] - 2s 1ms/step - loss: 0.6312 - accuracy: 0.6319\n",
      "Epoch 26/100\n",
      "1433/1433 [==============================] - 2s 1ms/step - loss: 0.6311 - accuracy: 0.6367\n",
      "Epoch 27/100\n",
      "1433/1433 [==============================] - 2s 1ms/step - loss: 0.6306 - accuracy: 0.6374\n",
      "Epoch 28/100\n",
      "1433/1433 [==============================] - 2s 1ms/step - loss: 0.6298 - accuracy: 0.6360\n",
      "Epoch 29/100\n",
      "1433/1433 [==============================] - 2s 1ms/step - loss: 0.6295 - accuracy: 0.6370\n",
      "Epoch 30/100\n",
      "1433/1433 [==============================] - 2s 1ms/step - loss: 0.6289 - accuracy: 0.6367\n",
      "Epoch 31/100\n",
      "1433/1433 [==============================] - 2s 1ms/step - loss: 0.6291 - accuracy: 0.6382\n",
      "Epoch 32/100\n",
      "1433/1433 [==============================] - 2s 1ms/step - loss: 0.6282 - accuracy: 0.6370\n",
      "Epoch 33/100\n",
      "1433/1433 [==============================] - 2s 1ms/step - loss: 0.6280 - accuracy: 0.6366\n",
      "Epoch 34/100\n",
      "1433/1433 [==============================] - 1s 1ms/step - loss: 0.6282 - accuracy: 0.6414\n",
      "Epoch 35/100\n",
      "1433/1433 [==============================] - 1s 993us/step - loss: 0.6276 - accuracy: 0.6392\n",
      "Epoch 36/100\n",
      "1433/1433 [==============================] - 1s 1ms/step - loss: 0.6275 - accuracy: 0.6389\n",
      "Epoch 37/100\n",
      "1433/1433 [==============================] - 2s 1ms/step - loss: 0.6272 - accuracy: 0.6392\n",
      "Epoch 38/100\n",
      "1433/1433 [==============================] - 2s 1ms/step - loss: 0.6268 - accuracy: 0.6392\n",
      "Epoch 39/100\n",
      "1433/1433 [==============================] - 2s 1ms/step - loss: 0.6262 - accuracy: 0.6411\n",
      "Epoch 40/100\n",
      "1433/1433 [==============================] - 2s 1ms/step - loss: 0.6266 - accuracy: 0.6398\n",
      "Epoch 41/100\n",
      "1433/1433 [==============================] - 2s 1ms/step - loss: 0.6259 - accuracy: 0.6414\n",
      "Epoch 42/100\n",
      "1433/1433 [==============================] - 2s 1ms/step - loss: 0.6262 - accuracy: 0.6427\n",
      "Epoch 43/100\n",
      "1433/1433 [==============================] - 2s 1ms/step - loss: 0.6258 - accuracy: 0.6403\n",
      "Epoch 44/100\n",
      "1433/1433 [==============================] - 2s 1ms/step - loss: 0.6257 - accuracy: 0.6386\n",
      "Epoch 45/100\n",
      "1433/1433 [==============================] - 2s 1ms/step - loss: 0.6253 - accuracy: 0.6396\n",
      "Epoch 46/100\n",
      "1433/1433 [==============================] - 2s 1ms/step - loss: 0.6250 - accuracy: 0.6428\n",
      "Epoch 47/100\n",
      "1433/1433 [==============================] - 2s 1ms/step - loss: 0.6250 - accuracy: 0.6423\n",
      "Epoch 48/100\n",
      "1433/1433 [==============================] - 2s 1ms/step - loss: 0.6250 - accuracy: 0.6393\n",
      "Epoch 49/100\n",
      "1433/1433 [==============================] - 2s 1ms/step - loss: 0.6245 - accuracy: 0.6423\n",
      "Epoch 50/100\n",
      "1433/1433 [==============================] - 2s 1ms/step - loss: 0.6243 - accuracy: 0.6423\n",
      "Epoch 51/100\n",
      "1433/1433 [==============================] - 1s 1ms/step - loss: 0.6235 - accuracy: 0.6437\n",
      "Epoch 52/100\n",
      "1433/1433 [==============================] - 2s 1ms/step - loss: 0.6240 - accuracy: 0.6407\n",
      "Epoch 53/100\n",
      "1433/1433 [==============================] - 2s 1ms/step - loss: 0.6232 - accuracy: 0.6423\n",
      "Epoch 54/100\n",
      "1433/1433 [==============================] - 2s 1ms/step - loss: 0.6229 - accuracy: 0.6432\n",
      "Epoch 55/100\n",
      "1433/1433 [==============================] - 2s 1ms/step - loss: 0.6228 - accuracy: 0.6442\n",
      "Epoch 56/100\n",
      "1433/1433 [==============================] - 2s 1ms/step - loss: 0.6226 - accuracy: 0.6426\n",
      "Epoch 57/100\n",
      "1433/1433 [==============================] - 1s 1ms/step - loss: 0.6224 - accuracy: 0.6444\n",
      "Epoch 58/100\n",
      "1433/1433 [==============================] - 2s 1ms/step - loss: 0.6217 - accuracy: 0.6436\n",
      "Epoch 59/100\n",
      "1433/1433 [==============================] - 2s 1ms/step - loss: 0.6221 - accuracy: 0.6453\n",
      "Epoch 60/100\n",
      "1433/1433 [==============================] - 2s 1ms/step - loss: 0.6219 - accuracy: 0.6442\n",
      "Epoch 61/100\n",
      "1433/1433 [==============================] - 2s 1ms/step - loss: 0.6217 - accuracy: 0.6444\n",
      "Epoch 62/100\n",
      "1433/1433 [==============================] - 2s 1ms/step - loss: 0.6212 - accuracy: 0.6454\n",
      "Epoch 63/100\n",
      "1433/1433 [==============================] - 2s 1ms/step - loss: 0.6215 - accuracy: 0.6436\n",
      "Epoch 64/100\n",
      "1433/1433 [==============================] - 2s 1ms/step - loss: 0.6207 - accuracy: 0.6465\n",
      "Epoch 65/100\n",
      "1433/1433 [==============================] - 2s 1ms/step - loss: 0.6213 - accuracy: 0.6443\n",
      "Epoch 66/100\n",
      "1433/1433 [==============================] - 1s 1ms/step - loss: 0.6207 - accuracy: 0.6453\n",
      "Epoch 67/100\n",
      "1433/1433 [==============================] - 2s 1ms/step - loss: 0.6201 - accuracy: 0.6448\n",
      "Epoch 68/100\n",
      "1433/1433 [==============================] - 2s 1ms/step - loss: 0.6207 - accuracy: 0.6456\n",
      "Epoch 69/100\n",
      "1433/1433 [==============================] - 2s 1ms/step - loss: 0.6207 - accuracy: 0.6480\n",
      "Epoch 70/100\n",
      "1433/1433 [==============================] - 2s 1ms/step - loss: 0.6204 - accuracy: 0.6470\n",
      "Epoch 71/100\n",
      "1433/1433 [==============================] - 2s 1ms/step - loss: 0.6206 - accuracy: 0.6481\n",
      "Epoch 72/100\n",
      "1433/1433 [==============================] - 1s 1ms/step - loss: 0.6197 - accuracy: 0.6478\n",
      "Epoch 73/100\n",
      "1433/1433 [==============================] - 2s 1ms/step - loss: 0.6201 - accuracy: 0.6478\n",
      "Epoch 74/100\n",
      "1433/1433 [==============================] - 2s 1ms/step - loss: 0.6200 - accuracy: 0.6495\n",
      "Epoch 75/100\n",
      "1433/1433 [==============================] - 2s 1ms/step - loss: 0.6201 - accuracy: 0.6465\n",
      "Epoch 76/100\n",
      "1433/1433 [==============================] - 2s 1ms/step - loss: 0.6202 - accuracy: 0.6488\n",
      "Epoch 77/100\n",
      "1433/1433 [==============================] - 2s 1ms/step - loss: 0.6194 - accuracy: 0.6482\n",
      "Epoch 78/100\n",
      "1433/1433 [==============================] - 2s 1ms/step - loss: 0.6193 - accuracy: 0.6494\n",
      "Epoch 79/100\n"
     ]
    },
    {
     "name": "stdout",
     "output_type": "stream",
     "text": [
      "1433/1433 [==============================] - 2s 1ms/step - loss: 0.6194 - accuracy: 0.6499\n",
      "Epoch 80/100\n",
      "1433/1433 [==============================] - 2s 1ms/step - loss: 0.6190 - accuracy: 0.6477\n",
      "Epoch 81/100\n",
      "1433/1433 [==============================] - 2s 1ms/step - loss: 0.6193 - accuracy: 0.6483\n",
      "Epoch 82/100\n",
      "1433/1433 [==============================] - 2s 1ms/step - loss: 0.6189 - accuracy: 0.6486\n",
      "Epoch 83/100\n",
      "1433/1433 [==============================] - 2s 1ms/step - loss: 0.6187 - accuracy: 0.6522\n",
      "Epoch 84/100\n",
      "1433/1433 [==============================] - 2s 1ms/step - loss: 0.6184 - accuracy: 0.6500\n",
      "Epoch 85/100\n",
      "1433/1433 [==============================] - 2s 1ms/step - loss: 0.6189 - accuracy: 0.6511\n",
      "Epoch 86/100\n",
      "1433/1433 [==============================] - 1s 1ms/step - loss: 0.6188 - accuracy: 0.6499\n",
      "Epoch 87/100\n",
      "1433/1433 [==============================] - 2s 1ms/step - loss: 0.6191 - accuracy: 0.6510\n",
      "Epoch 88/100\n",
      "1433/1433 [==============================] - 2s 1ms/step - loss: 0.6192 - accuracy: 0.6494\n",
      "Epoch 89/100\n",
      "1433/1433 [==============================] - 2s 1ms/step - loss: 0.6184 - accuracy: 0.6513\n",
      "Epoch 90/100\n",
      "1433/1433 [==============================] - 2s 1ms/step - loss: 0.6183 - accuracy: 0.6494\n",
      "Epoch 91/100\n",
      "1433/1433 [==============================] - 2s 1ms/step - loss: 0.6181 - accuracy: 0.6531\n",
      "Epoch 92/100\n",
      "1433/1433 [==============================] - 2s 1ms/step - loss: 0.6179 - accuracy: 0.6507\n",
      "Epoch 93/100\n",
      "1433/1433 [==============================] - 2s 1ms/step - loss: 0.6183 - accuracy: 0.6524\n",
      "Epoch 94/100\n",
      "1433/1433 [==============================] - 2s 1ms/step - loss: 0.6178 - accuracy: 0.6522\n",
      "Epoch 95/100\n",
      "1433/1433 [==============================] - 1s 1ms/step - loss: 0.6176 - accuracy: 0.6513\n",
      "Epoch 96/100\n",
      "1433/1433 [==============================] - 2s 1ms/step - loss: 0.6179 - accuracy: 0.6502\n",
      "Epoch 97/100\n",
      "1433/1433 [==============================] - 2s 1ms/step - loss: 0.6173 - accuracy: 0.6527\n",
      "Epoch 98/100\n",
      "1433/1433 [==============================] - 2s 1ms/step - loss: 0.6175 - accuracy: 0.6514\n",
      "Epoch 99/100\n",
      "1433/1433 [==============================] - 1s 1ms/step - loss: 0.6178 - accuracy: 0.6536\n",
      "Epoch 100/100\n",
      "1433/1433 [==============================] - 2s 1ms/step - loss: 0.6169 - accuracy: 0.6518\n"
     ]
    },
    {
     "data": {
      "text/plain": [
       "<keras.callbacks.History at 0x289da02cac0>"
      ]
     },
     "execution_count": 20,
     "metadata": {},
     "output_type": "execute_result"
    }
   ],
   "source": [
    "# Fitting the ANN to the Training set\n",
    "classifier.fit(X_train, y_train, batch_size = 10, epochs = 100)"
   ]
  },
  {
   "cell_type": "code",
   "execution_count": 21,
   "metadata": {},
   "outputs": [],
   "source": [
    "#Predict functioon the test data using the model\n",
    "pred=classifier.predict(X_test)"
   ]
  },
  {
   "cell_type": "code",
   "execution_count": 22,
   "metadata": {},
   "outputs": [],
   "source": [
    "\n",
    "y_pred = (pred > 0.5)"
   ]
  },
  {
   "cell_type": "code",
   "execution_count": 23,
   "metadata": {},
   "outputs": [
    {
     "data": {
      "text/plain": [
       "0.6072026800670016"
      ]
     },
     "execution_count": 23,
     "metadata": {},
     "output_type": "execute_result"
    }
   ],
   "source": [
    "accuracy_score(y_pred,y_test)"
   ]
  },
  {
   "cell_type": "markdown",
   "metadata": {},
   "source": [
    "## Other Machine Learning Model"
   ]
  },
  {
   "cell_type": "markdown",
   "metadata": {},
   "source": [
    "#### Feature Engineering"
   ]
  },
  {
   "cell_type": "markdown",
   "metadata": {},
   "source": [
    "\n",
    "    \n",
    "<div>\n",
    "    <br>\n",
    "<img src=\"img/ml.jpg\" width=\"500\"/>\n",
    "</div>"
   ]
  },
  {
   "cell_type": "markdown",
   "metadata": {},
   "source": [
    "##### AGE\n",
    "\n",
    "We will group our age data as follows:\n",
    "<div>\n",
    "    <br>\n",
    "<img src=\"img/age_group.png\" width=\"500\"/>\n",
    "</div>"
   ]
  },
  {
   "cell_type": "code",
   "execution_count": 24,
   "metadata": {},
   "outputs": [],
   "source": [
    "#Initializing the Empty List\n",
    "AGE=[]\n",
    "\n",
    "for i in range(len(df)):\n",
    "    if(df[\"age\"][i]<=45):\n",
    "        AGE.append(\"ADULT\")\n",
    "        \n",
    "    else:\n",
    "        AGE.append(\"SENIOR\")"
   ]
  },
  {
   "cell_type": "markdown",
   "metadata": {},
   "source": [
    "#### Months Employed and Personal Account\n",
    "\n",
    "We will calculate months employed as follows:\n",
    "<br>\n",
    "<p style=\"text-indent:5em\">month employed=month employed+ years employed*12</p>\n",
    "    <p style=\"text-indent:5em\">account_m=account_m+account_y*12</p>\n"
   ]
  },
  {
   "cell_type": "code",
   "execution_count": 25,
   "metadata": {},
   "outputs": [],
   "source": [
    "EMPLOYED=[]\n",
    "for i in range(len(df)):\n",
    "    x=df[\"months_employed\"][i]+df[\"years_employed\"][i]*12\n",
    "    EMPLOYED.append(x)"
   ]
  },
  {
   "cell_type": "code",
   "execution_count": 26,
   "metadata": {},
   "outputs": [],
   "source": [
    "PA=[]\n",
    "for i in range(len(df)):\n",
    "    x=df[\"personal_account_m\"][i]+df[\"personal_account_y\"][i]*12\n",
    "    PA.append(x)"
   ]
  },
  {
   "cell_type": "code",
   "execution_count": null,
   "metadata": {},
   "outputs": [],
   "source": []
  },
  {
   "cell_type": "code",
   "execution_count": 27,
   "metadata": {},
   "outputs": [],
   "source": [
    "avg_risk=[]\n",
    "for i in range(len(df)):\n",
    "    x=(df[\"risk_score_2\"][i]+df[\"risk_score_3\"][i]+df[\"risk_score_4\"][i]+df[\"risk_score_5\"][i])/4\n",
    "    avg_risk.append(x)"
   ]
  },
  {
   "cell_type": "code",
   "execution_count": 28,
   "metadata": {},
   "outputs": [],
   "source": [
    "ext_quality=[]\n",
    "for i in range(len(df)):\n",
    "    x=(df[\"ext_quality_score_2\"][i]+df[\"ext_quality_score\"][i])/2\n",
    "    ext_quality.append(x)"
   ]
  },
  {
   "cell_type": "markdown",
   "metadata": {},
   "source": [
    "#### Merging all the features into Single Dataframe\n",
    "\n",
    "<p style=\"text-indent:5em\">\n"
   ]
  },
  {
   "cell_type": "code",
   "execution_count": 29,
   "metadata": {},
   "outputs": [],
   "source": [
    "#Converting all lists into DataFrame\n",
    "AGE=pd.DataFrame(AGE)\n",
    "EMPLOYED=pd.DataFrame(EMPLOYED)\n",
    "PA=pd.DataFrame(PA)\n",
    "avg_risk=pd.DataFrame(avg_risk)\n",
    "ext_quality=pd.DataFrame(ext_quality)\n",
    "\n",
    "#Concatng all the features\n",
    "featured=pd.concat([AGE,EMPLOYED,PA,avg_risk,ext_quality],axis=1)"
   ]
  },
  {
   "cell_type": "code",
   "execution_count": 30,
   "metadata": {},
   "outputs": [],
   "source": [
    "featured.columns=[\"AGE\",\"EMPLOYED\",\"PA\",\"RISK\",\"QUALITY\"]"
   ]
  },
  {
   "cell_type": "code",
   "execution_count": 31,
   "metadata": {},
   "outputs": [
    {
     "data": {
      "text/html": [
       "<div>\n",
       "<style scoped>\n",
       "    .dataframe tbody tr th:only-of-type {\n",
       "        vertical-align: middle;\n",
       "    }\n",
       "\n",
       "    .dataframe tbody tr th {\n",
       "        vertical-align: top;\n",
       "    }\n",
       "\n",
       "    .dataframe thead th {\n",
       "        text-align: right;\n",
       "    }\n",
       "</style>\n",
       "<table border=\"1\" class=\"dataframe\">\n",
       "  <thead>\n",
       "    <tr style=\"text-align: right;\">\n",
       "      <th></th>\n",
       "      <th>AGE</th>\n",
       "      <th>EMPLOYED</th>\n",
       "      <th>PA</th>\n",
       "      <th>RISK</th>\n",
       "      <th>QUALITY</th>\n",
       "    </tr>\n",
       "  </thead>\n",
       "  <tbody>\n",
       "    <tr>\n",
       "      <th>0</th>\n",
       "      <td>ADULT</td>\n",
       "      <td>36</td>\n",
       "      <td>30</td>\n",
       "      <td>0.661151</td>\n",
       "      <td>0.480918</td>\n",
       "    </tr>\n",
       "    <tr>\n",
       "      <th>1</th>\n",
       "      <td>SENIOR</td>\n",
       "      <td>72</td>\n",
       "      <td>86</td>\n",
       "      <td>0.789841</td>\n",
       "      <td>0.680720</td>\n",
       "    </tr>\n",
       "    <tr>\n",
       "      <th>2</th>\n",
       "      <td>ADULT</td>\n",
       "      <td>6</td>\n",
       "      <td>19</td>\n",
       "      <td>0.691712</td>\n",
       "      <td>0.531712</td>\n",
       "    </tr>\n",
       "    <tr>\n",
       "      <th>3</th>\n",
       "      <td>ADULT</td>\n",
       "      <td>72</td>\n",
       "      <td>86</td>\n",
       "      <td>0.793179</td>\n",
       "      <td>0.692552</td>\n",
       "    </tr>\n",
       "    <tr>\n",
       "      <th>4</th>\n",
       "      <td>ADULT</td>\n",
       "      <td>60</td>\n",
       "      <td>98</td>\n",
       "      <td>0.688483</td>\n",
       "      <td>0.744634</td>\n",
       "    </tr>\n",
       "  </tbody>\n",
       "</table>\n",
       "</div>"
      ],
      "text/plain": [
       "      AGE  EMPLOYED  PA      RISK   QUALITY\n",
       "0   ADULT        36  30  0.661151  0.480918\n",
       "1  SENIOR        72  86  0.789841  0.680720\n",
       "2   ADULT         6  19  0.691712  0.531712\n",
       "3   ADULT        72  86  0.793179  0.692552\n",
       "4   ADULT        60  98  0.688483  0.744634"
      ]
     },
     "execution_count": 31,
     "metadata": {},
     "output_type": "execute_result"
    }
   ],
   "source": [
    "featured.head()"
   ]
  },
  {
   "cell_type": "code",
   "execution_count": 32,
   "metadata": {},
   "outputs": [
    {
     "data": {
      "text/html": [
       "<div>\n",
       "<style scoped>\n",
       "    .dataframe tbody tr th:only-of-type {\n",
       "        vertical-align: middle;\n",
       "    }\n",
       "\n",
       "    .dataframe tbody tr th {\n",
       "        vertical-align: top;\n",
       "    }\n",
       "\n",
       "    .dataframe thead th {\n",
       "        text-align: right;\n",
       "    }\n",
       "</style>\n",
       "<table border=\"1\" class=\"dataframe\">\n",
       "  <thead>\n",
       "    <tr style=\"text-align: right;\">\n",
       "      <th></th>\n",
       "      <th>ADULT</th>\n",
       "      <th>SENIOR</th>\n",
       "    </tr>\n",
       "  </thead>\n",
       "  <tbody>\n",
       "    <tr>\n",
       "      <th>0</th>\n",
       "      <td>1</td>\n",
       "      <td>0</td>\n",
       "    </tr>\n",
       "    <tr>\n",
       "      <th>1</th>\n",
       "      <td>0</td>\n",
       "      <td>1</td>\n",
       "    </tr>\n",
       "    <tr>\n",
       "      <th>2</th>\n",
       "      <td>1</td>\n",
       "      <td>0</td>\n",
       "    </tr>\n",
       "    <tr>\n",
       "      <th>3</th>\n",
       "      <td>1</td>\n",
       "      <td>0</td>\n",
       "    </tr>\n",
       "    <tr>\n",
       "      <th>4</th>\n",
       "      <td>1</td>\n",
       "      <td>0</td>\n",
       "    </tr>\n",
       "  </tbody>\n",
       "</table>\n",
       "</div>"
      ],
      "text/plain": [
       "   ADULT  SENIOR\n",
       "0      1       0\n",
       "1      0       1\n",
       "2      1       0\n",
       "3      1       0\n",
       "4      1       0"
      ]
     },
     "execution_count": 32,
     "metadata": {},
     "output_type": "execute_result"
    }
   ],
   "source": [
    "#Creating Dummy Variable\n",
    "dummy1=pd.get_dummies(featured[\"AGE\"])\n",
    "dummy1.head()"
   ]
  },
  {
   "cell_type": "code",
   "execution_count": 33,
   "metadata": {},
   "outputs": [
    {
     "data": {
      "text/html": [
       "<div>\n",
       "<style scoped>\n",
       "    .dataframe tbody tr th:only-of-type {\n",
       "        vertical-align: middle;\n",
       "    }\n",
       "\n",
       "    .dataframe tbody tr th {\n",
       "        vertical-align: top;\n",
       "    }\n",
       "\n",
       "    .dataframe thead th {\n",
       "        text-align: right;\n",
       "    }\n",
       "</style>\n",
       "<table border=\"1\" class=\"dataframe\">\n",
       "  <thead>\n",
       "    <tr style=\"text-align: right;\">\n",
       "      <th></th>\n",
       "      <th>EMPLOYED</th>\n",
       "      <th>PA</th>\n",
       "      <th>RISK</th>\n",
       "      <th>QUALITY</th>\n",
       "      <th>ADULT</th>\n",
       "      <th>SENIOR</th>\n",
       "    </tr>\n",
       "  </thead>\n",
       "  <tbody>\n",
       "    <tr>\n",
       "      <th>0</th>\n",
       "      <td>36</td>\n",
       "      <td>30</td>\n",
       "      <td>0.661151</td>\n",
       "      <td>0.480918</td>\n",
       "      <td>1</td>\n",
       "      <td>0</td>\n",
       "    </tr>\n",
       "    <tr>\n",
       "      <th>1</th>\n",
       "      <td>72</td>\n",
       "      <td>86</td>\n",
       "      <td>0.789841</td>\n",
       "      <td>0.680720</td>\n",
       "      <td>0</td>\n",
       "      <td>1</td>\n",
       "    </tr>\n",
       "    <tr>\n",
       "      <th>2</th>\n",
       "      <td>6</td>\n",
       "      <td>19</td>\n",
       "      <td>0.691712</td>\n",
       "      <td>0.531712</td>\n",
       "      <td>1</td>\n",
       "      <td>0</td>\n",
       "    </tr>\n",
       "    <tr>\n",
       "      <th>3</th>\n",
       "      <td>72</td>\n",
       "      <td>86</td>\n",
       "      <td>0.793179</td>\n",
       "      <td>0.692552</td>\n",
       "      <td>1</td>\n",
       "      <td>0</td>\n",
       "    </tr>\n",
       "    <tr>\n",
       "      <th>4</th>\n",
       "      <td>60</td>\n",
       "      <td>98</td>\n",
       "      <td>0.688483</td>\n",
       "      <td>0.744634</td>\n",
       "      <td>1</td>\n",
       "      <td>0</td>\n",
       "    </tr>\n",
       "  </tbody>\n",
       "</table>\n",
       "</div>"
      ],
      "text/plain": [
       "   EMPLOYED  PA      RISK   QUALITY  ADULT  SENIOR\n",
       "0        36  30  0.661151  0.480918      1       0\n",
       "1        72  86  0.789841  0.680720      0       1\n",
       "2         6  19  0.691712  0.531712      1       0\n",
       "3        72  86  0.793179  0.692552      1       0\n",
       "4        60  98  0.688483  0.744634      1       0"
      ]
     },
     "execution_count": 33,
     "metadata": {},
     "output_type": "execute_result"
    }
   ],
   "source": [
    "#Dropping the AGE Variable since dummy variable is created\n",
    "featured=featured.drop([\"AGE\"],axis=1)\n",
    "\n",
    "#Concating the data and dummy variable\n",
    "featured=pd.concat([featured,dummy1],axis=1)\n",
    "featured.head()"
   ]
  },
  {
   "cell_type": "markdown",
   "metadata": {},
   "source": [
    "#### Classifying the Data into dependent and independent Variable"
   ]
  },
  {
   "cell_type": "code",
   "execution_count": 34,
   "metadata": {},
   "outputs": [],
   "source": [
    "#Dependent Variable\n",
    "dep=\"e_signed\"\n",
    "\n",
    "#Selelcting all the column as independent variable\n",
    "ind=df.columns.tolist()"
   ]
  },
  {
   "cell_type": "code",
   "execution_count": 35,
   "metadata": {},
   "outputs": [
    {
     "data": {
      "text/plain": [
       "['entry_id',\n",
       " 'age',\n",
       " 'pay_schedule',\n",
       " 'home_owner',\n",
       " 'income',\n",
       " 'months_employed',\n",
       " 'years_employed',\n",
       " 'current_address_year',\n",
       " 'personal_account_m',\n",
       " 'personal_account_y',\n",
       " 'has_debt',\n",
       " 'amount_requested',\n",
       " 'risk_score',\n",
       " 'risk_score_2',\n",
       " 'risk_score_3',\n",
       " 'risk_score_4',\n",
       " 'risk_score_5',\n",
       " 'ext_quality_score',\n",
       " 'ext_quality_score_2',\n",
       " 'inquiries_last_month',\n",
       " 'e_signed']"
      ]
     },
     "execution_count": 35,
     "metadata": {},
     "output_type": "execute_result"
    }
   ],
   "source": [
    "ind"
   ]
  },
  {
   "cell_type": "code",
   "execution_count": 36,
   "metadata": {},
   "outputs": [],
   "source": [
    "#Removing the dependent variable from independent\n",
    "ind.remove(dep)\n",
    "ind.remove(\"entry_id\")"
   ]
  },
  {
   "cell_type": "code",
   "execution_count": 37,
   "metadata": {},
   "outputs": [],
   "source": [
    "#Selecting the Data\n",
    "X=df[ind]\n",
    "Y=df[dep]"
   ]
  },
  {
   "cell_type": "code",
   "execution_count": 38,
   "metadata": {},
   "outputs": [
    {
     "data": {
      "text/html": [
       "<div>\n",
       "<style scoped>\n",
       "    .dataframe tbody tr th:only-of-type {\n",
       "        vertical-align: middle;\n",
       "    }\n",
       "\n",
       "    .dataframe tbody tr th {\n",
       "        vertical-align: top;\n",
       "    }\n",
       "\n",
       "    .dataframe thead th {\n",
       "        text-align: right;\n",
       "    }\n",
       "</style>\n",
       "<table border=\"1\" class=\"dataframe\">\n",
       "  <thead>\n",
       "    <tr style=\"text-align: right;\">\n",
       "      <th></th>\n",
       "      <th>age</th>\n",
       "      <th>pay_schedule</th>\n",
       "      <th>home_owner</th>\n",
       "      <th>income</th>\n",
       "      <th>months_employed</th>\n",
       "      <th>years_employed</th>\n",
       "      <th>current_address_year</th>\n",
       "      <th>personal_account_m</th>\n",
       "      <th>personal_account_y</th>\n",
       "      <th>has_debt</th>\n",
       "      <th>...</th>\n",
       "      <th>risk_score_5</th>\n",
       "      <th>ext_quality_score</th>\n",
       "      <th>ext_quality_score_2</th>\n",
       "      <th>inquiries_last_month</th>\n",
       "      <th>EMPLOYED</th>\n",
       "      <th>PA</th>\n",
       "      <th>RISK</th>\n",
       "      <th>QUALITY</th>\n",
       "      <th>ADULT</th>\n",
       "      <th>SENIOR</th>\n",
       "    </tr>\n",
       "  </thead>\n",
       "  <tbody>\n",
       "    <tr>\n",
       "      <th>0</th>\n",
       "      <td>40</td>\n",
       "      <td>bi-weekly</td>\n",
       "      <td>1</td>\n",
       "      <td>3135</td>\n",
       "      <td>0</td>\n",
       "      <td>3</td>\n",
       "      <td>3</td>\n",
       "      <td>6</td>\n",
       "      <td>2</td>\n",
       "      <td>1</td>\n",
       "      <td>...</td>\n",
       "      <td>0.515977</td>\n",
       "      <td>0.580918</td>\n",
       "      <td>0.380918</td>\n",
       "      <td>10</td>\n",
       "      <td>36</td>\n",
       "      <td>30</td>\n",
       "      <td>0.661151</td>\n",
       "      <td>0.480918</td>\n",
       "      <td>1</td>\n",
       "      <td>0</td>\n",
       "    </tr>\n",
       "    <tr>\n",
       "      <th>1</th>\n",
       "      <td>61</td>\n",
       "      <td>weekly</td>\n",
       "      <td>0</td>\n",
       "      <td>3180</td>\n",
       "      <td>0</td>\n",
       "      <td>6</td>\n",
       "      <td>3</td>\n",
       "      <td>2</td>\n",
       "      <td>7</td>\n",
       "      <td>1</td>\n",
       "      <td>...</td>\n",
       "      <td>0.826402</td>\n",
       "      <td>0.730720</td>\n",
       "      <td>0.630720</td>\n",
       "      <td>9</td>\n",
       "      <td>72</td>\n",
       "      <td>86</td>\n",
       "      <td>0.789841</td>\n",
       "      <td>0.680720</td>\n",
       "      <td>0</td>\n",
       "      <td>1</td>\n",
       "    </tr>\n",
       "    <tr>\n",
       "      <th>2</th>\n",
       "      <td>23</td>\n",
       "      <td>weekly</td>\n",
       "      <td>0</td>\n",
       "      <td>1540</td>\n",
       "      <td>6</td>\n",
       "      <td>0</td>\n",
       "      <td>0</td>\n",
       "      <td>7</td>\n",
       "      <td>1</td>\n",
       "      <td>1</td>\n",
       "      <td>...</td>\n",
       "      <td>0.762284</td>\n",
       "      <td>0.531712</td>\n",
       "      <td>0.531712</td>\n",
       "      <td>7</td>\n",
       "      <td>6</td>\n",
       "      <td>19</td>\n",
       "      <td>0.691712</td>\n",
       "      <td>0.531712</td>\n",
       "      <td>1</td>\n",
       "      <td>0</td>\n",
       "    </tr>\n",
       "    <tr>\n",
       "      <th>3</th>\n",
       "      <td>40</td>\n",
       "      <td>bi-weekly</td>\n",
       "      <td>0</td>\n",
       "      <td>5230</td>\n",
       "      <td>0</td>\n",
       "      <td>6</td>\n",
       "      <td>1</td>\n",
       "      <td>2</td>\n",
       "      <td>7</td>\n",
       "      <td>1</td>\n",
       "      <td>...</td>\n",
       "      <td>0.778831</td>\n",
       "      <td>0.792552</td>\n",
       "      <td>0.592552</td>\n",
       "      <td>8</td>\n",
       "      <td>72</td>\n",
       "      <td>86</td>\n",
       "      <td>0.793179</td>\n",
       "      <td>0.692552</td>\n",
       "      <td>1</td>\n",
       "      <td>0</td>\n",
       "    </tr>\n",
       "    <tr>\n",
       "      <th>4</th>\n",
       "      <td>33</td>\n",
       "      <td>semi-monthly</td>\n",
       "      <td>0</td>\n",
       "      <td>3590</td>\n",
       "      <td>0</td>\n",
       "      <td>5</td>\n",
       "      <td>2</td>\n",
       "      <td>2</td>\n",
       "      <td>8</td>\n",
       "      <td>1</td>\n",
       "      <td>...</td>\n",
       "      <td>0.665523</td>\n",
       "      <td>0.744634</td>\n",
       "      <td>0.744634</td>\n",
       "      <td>12</td>\n",
       "      <td>60</td>\n",
       "      <td>98</td>\n",
       "      <td>0.688483</td>\n",
       "      <td>0.744634</td>\n",
       "      <td>1</td>\n",
       "      <td>0</td>\n",
       "    </tr>\n",
       "  </tbody>\n",
       "</table>\n",
       "<p>5 rows × 25 columns</p>\n",
       "</div>"
      ],
      "text/plain": [
       "   age  pay_schedule  home_owner  income  months_employed  years_employed  \\\n",
       "0   40     bi-weekly           1    3135                0               3   \n",
       "1   61        weekly           0    3180                0               6   \n",
       "2   23        weekly           0    1540                6               0   \n",
       "3   40     bi-weekly           0    5230                0               6   \n",
       "4   33  semi-monthly           0    3590                0               5   \n",
       "\n",
       "   current_address_year  personal_account_m  personal_account_y  has_debt  \\\n",
       "0                     3                   6                   2         1   \n",
       "1                     3                   2                   7         1   \n",
       "2                     0                   7                   1         1   \n",
       "3                     1                   2                   7         1   \n",
       "4                     2                   2                   8         1   \n",
       "\n",
       "   ...  risk_score_5  ext_quality_score  ext_quality_score_2  \\\n",
       "0  ...      0.515977           0.580918             0.380918   \n",
       "1  ...      0.826402           0.730720             0.630720   \n",
       "2  ...      0.762284           0.531712             0.531712   \n",
       "3  ...      0.778831           0.792552             0.592552   \n",
       "4  ...      0.665523           0.744634             0.744634   \n",
       "\n",
       "   inquiries_last_month  EMPLOYED  PA      RISK   QUALITY  ADULT  SENIOR  \n",
       "0                    10        36  30  0.661151  0.480918      1       0  \n",
       "1                     9        72  86  0.789841  0.680720      0       1  \n",
       "2                     7         6  19  0.691712  0.531712      1       0  \n",
       "3                     8        72  86  0.793179  0.692552      1       0  \n",
       "4                    12        60  98  0.688483  0.744634      1       0  \n",
       "\n",
       "[5 rows x 25 columns]"
      ]
     },
     "execution_count": 38,
     "metadata": {},
     "output_type": "execute_result"
    }
   ],
   "source": [
    "#Concating the featured data and unfeatured data\n",
    "X=pd.concat([X,featured],axis=1)\n",
    "X.head()"
   ]
  },
  {
   "cell_type": "code",
   "execution_count": 39,
   "metadata": {},
   "outputs": [],
   "source": [
    "#Dropping the unnecessay data from our dataset\n",
    "X=X.drop(labels=[\"age\",\"months_employed\",\"years_employed\",\"personal_account_m\",\"personal_account_y\",\"risk_score_2\",\"risk_score_3\"\n",
    "                ,\"risk_score_4\",\"risk_score_5\",\"ext_quality_score_2\",\"ext_quality_score\"],axis=1)"
   ]
  },
  {
   "cell_type": "code",
   "execution_count": 40,
   "metadata": {},
   "outputs": [
    {
     "data": {
      "text/html": [
       "<div>\n",
       "<style scoped>\n",
       "    .dataframe tbody tr th:only-of-type {\n",
       "        vertical-align: middle;\n",
       "    }\n",
       "\n",
       "    .dataframe tbody tr th {\n",
       "        vertical-align: top;\n",
       "    }\n",
       "\n",
       "    .dataframe thead th {\n",
       "        text-align: right;\n",
       "    }\n",
       "</style>\n",
       "<table border=\"1\" class=\"dataframe\">\n",
       "  <thead>\n",
       "    <tr style=\"text-align: right;\">\n",
       "      <th></th>\n",
       "      <th>pay_schedule</th>\n",
       "      <th>home_owner</th>\n",
       "      <th>income</th>\n",
       "      <th>current_address_year</th>\n",
       "      <th>has_debt</th>\n",
       "      <th>amount_requested</th>\n",
       "      <th>risk_score</th>\n",
       "      <th>inquiries_last_month</th>\n",
       "      <th>EMPLOYED</th>\n",
       "      <th>PA</th>\n",
       "      <th>RISK</th>\n",
       "      <th>QUALITY</th>\n",
       "      <th>ADULT</th>\n",
       "      <th>SENIOR</th>\n",
       "    </tr>\n",
       "  </thead>\n",
       "  <tbody>\n",
       "    <tr>\n",
       "      <th>0</th>\n",
       "      <td>bi-weekly</td>\n",
       "      <td>1</td>\n",
       "      <td>3135</td>\n",
       "      <td>3</td>\n",
       "      <td>1</td>\n",
       "      <td>550</td>\n",
       "      <td>36200</td>\n",
       "      <td>10</td>\n",
       "      <td>36</td>\n",
       "      <td>30</td>\n",
       "      <td>0.661151</td>\n",
       "      <td>0.480918</td>\n",
       "      <td>1</td>\n",
       "      <td>0</td>\n",
       "    </tr>\n",
       "    <tr>\n",
       "      <th>1</th>\n",
       "      <td>weekly</td>\n",
       "      <td>0</td>\n",
       "      <td>3180</td>\n",
       "      <td>3</td>\n",
       "      <td>1</td>\n",
       "      <td>600</td>\n",
       "      <td>30150</td>\n",
       "      <td>9</td>\n",
       "      <td>72</td>\n",
       "      <td>86</td>\n",
       "      <td>0.789841</td>\n",
       "      <td>0.680720</td>\n",
       "      <td>0</td>\n",
       "      <td>1</td>\n",
       "    </tr>\n",
       "    <tr>\n",
       "      <th>2</th>\n",
       "      <td>weekly</td>\n",
       "      <td>0</td>\n",
       "      <td>1540</td>\n",
       "      <td>0</td>\n",
       "      <td>1</td>\n",
       "      <td>450</td>\n",
       "      <td>34550</td>\n",
       "      <td>7</td>\n",
       "      <td>6</td>\n",
       "      <td>19</td>\n",
       "      <td>0.691712</td>\n",
       "      <td>0.531712</td>\n",
       "      <td>1</td>\n",
       "      <td>0</td>\n",
       "    </tr>\n",
       "    <tr>\n",
       "      <th>3</th>\n",
       "      <td>bi-weekly</td>\n",
       "      <td>0</td>\n",
       "      <td>5230</td>\n",
       "      <td>1</td>\n",
       "      <td>1</td>\n",
       "      <td>700</td>\n",
       "      <td>42150</td>\n",
       "      <td>8</td>\n",
       "      <td>72</td>\n",
       "      <td>86</td>\n",
       "      <td>0.793179</td>\n",
       "      <td>0.692552</td>\n",
       "      <td>1</td>\n",
       "      <td>0</td>\n",
       "    </tr>\n",
       "    <tr>\n",
       "      <th>4</th>\n",
       "      <td>semi-monthly</td>\n",
       "      <td>0</td>\n",
       "      <td>3590</td>\n",
       "      <td>2</td>\n",
       "      <td>1</td>\n",
       "      <td>1100</td>\n",
       "      <td>53850</td>\n",
       "      <td>12</td>\n",
       "      <td>60</td>\n",
       "      <td>98</td>\n",
       "      <td>0.688483</td>\n",
       "      <td>0.744634</td>\n",
       "      <td>1</td>\n",
       "      <td>0</td>\n",
       "    </tr>\n",
       "  </tbody>\n",
       "</table>\n",
       "</div>"
      ],
      "text/plain": [
       "   pay_schedule  home_owner  income  current_address_year  has_debt  \\\n",
       "0     bi-weekly           1    3135                     3         1   \n",
       "1        weekly           0    3180                     3         1   \n",
       "2        weekly           0    1540                     0         1   \n",
       "3     bi-weekly           0    5230                     1         1   \n",
       "4  semi-monthly           0    3590                     2         1   \n",
       "\n",
       "   amount_requested  risk_score  inquiries_last_month  EMPLOYED  PA      RISK  \\\n",
       "0               550       36200                    10        36  30  0.661151   \n",
       "1               600       30150                     9        72  86  0.789841   \n",
       "2               450       34550                     7         6  19  0.691712   \n",
       "3               700       42150                     8        72  86  0.793179   \n",
       "4              1100       53850                    12        60  98  0.688483   \n",
       "\n",
       "    QUALITY  ADULT  SENIOR  \n",
       "0  0.480918      1       0  \n",
       "1  0.680720      0       1  \n",
       "2  0.531712      1       0  \n",
       "3  0.692552      1       0  \n",
       "4  0.744634      1       0  "
      ]
     },
     "execution_count": 40,
     "metadata": {},
     "output_type": "execute_result"
    }
   ],
   "source": [
    "X.head()"
   ]
  },
  {
   "cell_type": "code",
   "execution_count": 41,
   "metadata": {},
   "outputs": [
    {
     "data": {
      "text/html": [
       "<div>\n",
       "<style scoped>\n",
       "    .dataframe tbody tr th:only-of-type {\n",
       "        vertical-align: middle;\n",
       "    }\n",
       "\n",
       "    .dataframe tbody tr th {\n",
       "        vertical-align: top;\n",
       "    }\n",
       "\n",
       "    .dataframe thead th {\n",
       "        text-align: right;\n",
       "    }\n",
       "</style>\n",
       "<table border=\"1\" class=\"dataframe\">\n",
       "  <thead>\n",
       "    <tr style=\"text-align: right;\">\n",
       "      <th></th>\n",
       "      <th>monthly</th>\n",
       "      <th>semi-monthly</th>\n",
       "      <th>weekly</th>\n",
       "    </tr>\n",
       "  </thead>\n",
       "  <tbody>\n",
       "    <tr>\n",
       "      <th>0</th>\n",
       "      <td>0</td>\n",
       "      <td>0</td>\n",
       "      <td>0</td>\n",
       "    </tr>\n",
       "    <tr>\n",
       "      <th>1</th>\n",
       "      <td>0</td>\n",
       "      <td>0</td>\n",
       "      <td>1</td>\n",
       "    </tr>\n",
       "    <tr>\n",
       "      <th>2</th>\n",
       "      <td>0</td>\n",
       "      <td>0</td>\n",
       "      <td>1</td>\n",
       "    </tr>\n",
       "    <tr>\n",
       "      <th>3</th>\n",
       "      <td>0</td>\n",
       "      <td>0</td>\n",
       "      <td>0</td>\n",
       "    </tr>\n",
       "    <tr>\n",
       "      <th>4</th>\n",
       "      <td>0</td>\n",
       "      <td>1</td>\n",
       "      <td>0</td>\n",
       "    </tr>\n",
       "  </tbody>\n",
       "</table>\n",
       "</div>"
      ],
      "text/plain": [
       "   monthly  semi-monthly  weekly\n",
       "0        0             0       0\n",
       "1        0             0       1\n",
       "2        0             0       1\n",
       "3        0             0       0\n",
       "4        0             1       0"
      ]
     },
     "execution_count": 41,
     "metadata": {},
     "output_type": "execute_result"
    }
   ],
   "source": [
    "#Creating Dummy Variable\n",
    "dummy2=pd.get_dummies(X[\"pay_schedule\"])\n",
    "\n",
    "#Removing the trap\n",
    "dummy2=dummy2.drop(labels=[\"bi-weekly\"],axis=1)\n",
    "dummy2.head()"
   ]
  },
  {
   "cell_type": "code",
   "execution_count": 42,
   "metadata": {},
   "outputs": [
    {
     "data": {
      "text/html": [
       "<div>\n",
       "<style scoped>\n",
       "    .dataframe tbody tr th:only-of-type {\n",
       "        vertical-align: middle;\n",
       "    }\n",
       "\n",
       "    .dataframe tbody tr th {\n",
       "        vertical-align: top;\n",
       "    }\n",
       "\n",
       "    .dataframe thead th {\n",
       "        text-align: right;\n",
       "    }\n",
       "</style>\n",
       "<table border=\"1\" class=\"dataframe\">\n",
       "  <thead>\n",
       "    <tr style=\"text-align: right;\">\n",
       "      <th></th>\n",
       "      <th>home_owner</th>\n",
       "      <th>income</th>\n",
       "      <th>current_address_year</th>\n",
       "      <th>has_debt</th>\n",
       "      <th>amount_requested</th>\n",
       "      <th>risk_score</th>\n",
       "      <th>inquiries_last_month</th>\n",
       "      <th>EMPLOYED</th>\n",
       "      <th>PA</th>\n",
       "      <th>RISK</th>\n",
       "      <th>QUALITY</th>\n",
       "      <th>ADULT</th>\n",
       "      <th>SENIOR</th>\n",
       "      <th>monthly</th>\n",
       "      <th>semi-monthly</th>\n",
       "      <th>weekly</th>\n",
       "    </tr>\n",
       "  </thead>\n",
       "  <tbody>\n",
       "    <tr>\n",
       "      <th>0</th>\n",
       "      <td>1</td>\n",
       "      <td>3135</td>\n",
       "      <td>3</td>\n",
       "      <td>1</td>\n",
       "      <td>550</td>\n",
       "      <td>36200</td>\n",
       "      <td>10</td>\n",
       "      <td>36</td>\n",
       "      <td>30</td>\n",
       "      <td>0.661151</td>\n",
       "      <td>0.480918</td>\n",
       "      <td>1</td>\n",
       "      <td>0</td>\n",
       "      <td>0</td>\n",
       "      <td>0</td>\n",
       "      <td>0</td>\n",
       "    </tr>\n",
       "    <tr>\n",
       "      <th>1</th>\n",
       "      <td>0</td>\n",
       "      <td>3180</td>\n",
       "      <td>3</td>\n",
       "      <td>1</td>\n",
       "      <td>600</td>\n",
       "      <td>30150</td>\n",
       "      <td>9</td>\n",
       "      <td>72</td>\n",
       "      <td>86</td>\n",
       "      <td>0.789841</td>\n",
       "      <td>0.680720</td>\n",
       "      <td>0</td>\n",
       "      <td>1</td>\n",
       "      <td>0</td>\n",
       "      <td>0</td>\n",
       "      <td>1</td>\n",
       "    </tr>\n",
       "    <tr>\n",
       "      <th>2</th>\n",
       "      <td>0</td>\n",
       "      <td>1540</td>\n",
       "      <td>0</td>\n",
       "      <td>1</td>\n",
       "      <td>450</td>\n",
       "      <td>34550</td>\n",
       "      <td>7</td>\n",
       "      <td>6</td>\n",
       "      <td>19</td>\n",
       "      <td>0.691712</td>\n",
       "      <td>0.531712</td>\n",
       "      <td>1</td>\n",
       "      <td>0</td>\n",
       "      <td>0</td>\n",
       "      <td>0</td>\n",
       "      <td>1</td>\n",
       "    </tr>\n",
       "    <tr>\n",
       "      <th>3</th>\n",
       "      <td>0</td>\n",
       "      <td>5230</td>\n",
       "      <td>1</td>\n",
       "      <td>1</td>\n",
       "      <td>700</td>\n",
       "      <td>42150</td>\n",
       "      <td>8</td>\n",
       "      <td>72</td>\n",
       "      <td>86</td>\n",
       "      <td>0.793179</td>\n",
       "      <td>0.692552</td>\n",
       "      <td>1</td>\n",
       "      <td>0</td>\n",
       "      <td>0</td>\n",
       "      <td>0</td>\n",
       "      <td>0</td>\n",
       "    </tr>\n",
       "    <tr>\n",
       "      <th>4</th>\n",
       "      <td>0</td>\n",
       "      <td>3590</td>\n",
       "      <td>2</td>\n",
       "      <td>1</td>\n",
       "      <td>1100</td>\n",
       "      <td>53850</td>\n",
       "      <td>12</td>\n",
       "      <td>60</td>\n",
       "      <td>98</td>\n",
       "      <td>0.688483</td>\n",
       "      <td>0.744634</td>\n",
       "      <td>1</td>\n",
       "      <td>0</td>\n",
       "      <td>0</td>\n",
       "      <td>1</td>\n",
       "      <td>0</td>\n",
       "    </tr>\n",
       "  </tbody>\n",
       "</table>\n",
       "</div>"
      ],
      "text/plain": [
       "   home_owner  income  current_address_year  has_debt  amount_requested  \\\n",
       "0           1    3135                     3         1               550   \n",
       "1           0    3180                     3         1               600   \n",
       "2           0    1540                     0         1               450   \n",
       "3           0    5230                     1         1               700   \n",
       "4           0    3590                     2         1              1100   \n",
       "\n",
       "   risk_score  inquiries_last_month  EMPLOYED  PA      RISK   QUALITY  ADULT  \\\n",
       "0       36200                    10        36  30  0.661151  0.480918      1   \n",
       "1       30150                     9        72  86  0.789841  0.680720      0   \n",
       "2       34550                     7         6  19  0.691712  0.531712      1   \n",
       "3       42150                     8        72  86  0.793179  0.692552      1   \n",
       "4       53850                    12        60  98  0.688483  0.744634      1   \n",
       "\n",
       "   SENIOR  monthly  semi-monthly  weekly  \n",
       "0       0        0             0       0  \n",
       "1       1        0             0       1  \n",
       "2       0        0             0       1  \n",
       "3       0        0             0       0  \n",
       "4       0        0             1       0  "
      ]
     },
     "execution_count": 42,
     "metadata": {},
     "output_type": "execute_result"
    }
   ],
   "source": [
    "#Dropping the pay_schedule since dummy variable is created\n",
    "X=X.drop(labels=[\"pay_schedule\"],axis=1)\n",
    "\n",
    "#Concating the data and dummy variable\n",
    "X=pd.concat([X,dummy2],axis=1)\n",
    "X.head()"
   ]
  },
  {
   "cell_type": "markdown",
   "metadata": {},
   "source": [
    "#### Data Transformation and Model Building"
   ]
  },
  {
   "cell_type": "code",
   "execution_count": 43,
   "metadata": {},
   "outputs": [],
   "source": [
    "from sklearn.model_selection import train_test_split\n",
    "from sklearn.preprocessing import StandardScaler"
   ]
  },
  {
   "cell_type": "code",
   "execution_count": 44,
   "metadata": {},
   "outputs": [],
   "source": [
    "scale=StandardScaler()\n",
    "#Transforming the data\n",
    "X=scale.fit_transform(X)"
   ]
  },
  {
   "cell_type": "markdown",
   "metadata": {},
   "source": [
    "##### Splitting the Data"
   ]
  },
  {
   "cell_type": "code",
   "execution_count": 45,
   "metadata": {},
   "outputs": [],
   "source": [
    "#from sklearn.model_selection import train_test_split\n",
    "xtrain,xtest,ytrain,ytest=train_test_split(X,Y,test_size=0.25,random_state=0)"
   ]
  },
  {
   "cell_type": "markdown",
   "metadata": {},
   "source": [
    "## Random Forest"
   ]
  },
  {
   "cell_type": "code",
   "execution_count": 46,
   "metadata": {},
   "outputs": [],
   "source": [
    "from sklearn.ensemble import RandomForestClassifier, GradientBoostingClassifier"
   ]
  },
  {
   "cell_type": "code",
   "execution_count": 47,
   "metadata": {},
   "outputs": [],
   "source": [
    "#Initializing the object\n",
    "model=RandomForestClassifier()"
   ]
  },
  {
   "cell_type": "markdown",
   "metadata": {},
   "source": []
  },
  {
   "cell_type": "code",
   "execution_count": 48,
   "metadata": {},
   "outputs": [
    {
     "data": {
      "text/plain": [
       "RandomForestClassifier()"
      ]
     },
     "execution_count": 48,
     "metadata": {},
     "output_type": "execute_result"
    }
   ],
   "source": [
    "#Fitting the model\n",
    "model.fit(xtrain,ytrain)"
   ]
  },
  {
   "cell_type": "code",
   "execution_count": 49,
   "metadata": {},
   "outputs": [],
   "source": [
    "#Predictions on test data\n",
    "pred=model.predict(xtest)"
   ]
  },
  {
   "cell_type": "code",
   "execution_count": 50,
   "metadata": {},
   "outputs": [
    {
     "data": {
      "text/plain": [
       "0.6218449854813491"
      ]
     },
     "execution_count": 50,
     "metadata": {},
     "output_type": "execute_result"
    }
   ],
   "source": [
    "accuracy_score(ytest,pred)"
   ]
  },
  {
   "cell_type": "markdown",
   "metadata": {},
   "source": [
    "### Gradient Boosting"
   ]
  },
  {
   "cell_type": "markdown",
   "metadata": {},
   "source": []
  },
  {
   "cell_type": "code",
   "execution_count": 51,
   "metadata": {},
   "outputs": [],
   "source": [
    "lr_list = [0.05, 0.075, 0.1, 0.25, 0.5, 0.75, 1]\n",
    "\n",
    "for learning_rate in lr_list:\n",
    "    gb_clf = GradientBoostingClassifier(n_estimators=20, learning_rate=learning_rate, max_features=2, max_depth=2, random_state=0)\n",
    "    gb_clf.fit(xtrain, ytrain)"
   ]
  },
  {
   "cell_type": "code",
   "execution_count": 52,
   "metadata": {},
   "outputs": [
    {
     "name": "stdout",
     "output_type": "stream",
     "text": [
      "Learning rate:  1\n",
      "Accuracy score (training): 0.622\n",
      "Accuracy score (validation): 0.583\n"
     ]
    }
   ],
   "source": [
    "print(\"Learning rate: \", learning_rate)\n",
    "print(\"Accuracy score (training): {0:.3f}\".format(gb_clf.score(xtrain, ytrain)))\n",
    "print(\"Accuracy score (validation): {0:.3f}\".format(gb_clf.score(xtest, ytest)))"
   ]
  },
  {
   "cell_type": "markdown",
   "metadata": {},
   "source": [
    "### XgBoost\n"
   ]
  },
  {
   "cell_type": "code",
   "execution_count": 53,
   "metadata": {},
   "outputs": [],
   "source": [
    "#Implementing xgboost\n",
    "from xgboost import XGBClassifier"
   ]
  },
  {
   "cell_type": "code",
   "execution_count": 54,
   "metadata": {},
   "outputs": [
    {
     "name": "stdout",
     "output_type": "stream",
     "text": [
      "[20:34:10] WARNING: ..\\src\\learner.cc:1061: Starting in XGBoost 1.3.0, the default evaluation metric used with the objective 'binary:logistic' was changed from 'error' to 'logloss'. Explicitly set eval_metric if you'd like to restore the old behavior.\n"
     ]
    },
    {
     "data": {
      "text/plain": [
       "XGBClassifier(base_score=0.5, booster='gbtree', colsample_bylevel=1,\n",
       "              colsample_bynode=1, colsample_bytree=1, gamma=0, gpu_id=-1,\n",
       "              importance_type='gain', interaction_constraints='',\n",
       "              learning_rate=0.300000012, max_delta_step=0, max_depth=6,\n",
       "              min_child_weight=1, missing=nan, monotone_constraints='()',\n",
       "              n_estimators=100, n_jobs=12, num_parallel_tree=1, random_state=0,\n",
       "              reg_alpha=0, reg_lambda=1, scale_pos_weight=1, subsample=1,\n",
       "              tree_method='exact', validate_parameters=1, verbosity=None)"
      ]
     },
     "execution_count": 54,
     "metadata": {},
     "output_type": "execute_result"
    }
   ],
   "source": [
    "#Initializing the model\n",
    "xgb_clf = XGBClassifier()\n",
    "xgb_clf.fit(xtrain, ytrain)"
   ]
  },
  {
   "cell_type": "code",
   "execution_count": 55,
   "metadata": {},
   "outputs": [
    {
     "name": "stdout",
     "output_type": "stream",
     "text": [
      "0.6359169086441814\n"
     ]
    }
   ],
   "source": [
    "score = xgb_clf.score(xtest, ytest)\n",
    "print(score)"
   ]
  },
  {
   "cell_type": "markdown",
   "metadata": {},
   "source": [
    "#### Support Vector Machine"
   ]
  },
  {
   "cell_type": "code",
   "execution_count": 56,
   "metadata": {},
   "outputs": [
    {
     "data": {
      "text/plain": [
       "SVC(random_state=0)"
      ]
     },
     "execution_count": 56,
     "metadata": {},
     "output_type": "execute_result"
    }
   ],
   "source": [
    "from sklearn.svm import SVC\n",
    "classifier = SVC(random_state = 0, kernel = 'rbf')\n",
    "classifier.fit(xtrain, ytrain)"
   ]
  },
  {
   "cell_type": "code",
   "execution_count": 57,
   "metadata": {},
   "outputs": [],
   "source": [
    "# Predicting Test Set\n",
    "y_pred = classifier.predict(xtest)"
   ]
  },
  {
   "cell_type": "code",
   "execution_count": 58,
   "metadata": {},
   "outputs": [
    {
     "data": {
      "text/plain": [
       "0.5887871342416797"
      ]
     },
     "execution_count": 58,
     "metadata": {},
     "output_type": "execute_result"
    }
   ],
   "source": [
    "#Finding the Accuracy Score\n",
    "acc = accuracy_score(ytest, y_pred)\n",
    "acc"
   ]
  },
  {
   "cell_type": "code",
   "execution_count": null,
   "metadata": {},
   "outputs": [],
   "source": []
  },
  {
   "cell_type": "markdown",
   "metadata": {},
   "source": [
    "\n",
    "<br>\n",
    "<h4>Models implemented:</h4>\n",
    "\n",
    "<ul>\n",
    "    <li>Artificial Neural Network</li>\n",
    "    <li>Random Forest Classifier</li>\n",
    "    <li>Gradient Boosting</li>\n",
    "    <li>Support Vector Machine</li>\n",
    "    <li>Xg Boost</li>\n",
    "</ul>"
   ]
  },
  {
   "cell_type": "markdown",
   "metadata": {},
   "source": [
    "<center><h2><u>Conclusion</u><h2></center\n",
    "    \n",
    " <ul>\n",
    "    <li>XgBoost Algorithm performs the best and give the accuracy of 62 %</li>\n",
    "    <li>We see that the ANN with no feature engineering performs far better than SVM, Random Forest with feature engineering</li>\n",
    "    <li>Though we didnt get very high accuracy but this can help the banks in knowing whether the customer is risky or not.</li>\n",
    "</ul>"
   ]
  },
  {
   "cell_type": "code",
   "execution_count": null,
   "metadata": {},
   "outputs": [],
   "source": []
  },
  {
   "cell_type": "code",
   "execution_count": null,
   "metadata": {},
   "outputs": [],
   "source": []
  },
  {
   "cell_type": "code",
   "execution_count": null,
   "metadata": {},
   "outputs": [],
   "source": []
  }
 ],
 "metadata": {
  "kernelspec": {
   "display_name": "Python 3",
   "language": "python",
   "name": "python3"
  },
  "language_info": {
   "codemirror_mode": {
    "name": "ipython",
    "version": 3
   },
   "file_extension": ".py",
   "mimetype": "text/x-python",
   "name": "python",
   "nbconvert_exporter": "python",
   "pygments_lexer": "ipython3",
   "version": "3.8.8"
  }
 },
 "nbformat": 4,
 "nbformat_minor": 2
}
